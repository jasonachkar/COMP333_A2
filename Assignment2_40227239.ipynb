{
 "cells": [
  {
   "cell_type": "code",
   "id": "initial_id",
   "metadata": {
    "collapsed": true,
    "ExecuteTime": {
     "end_time": "2024-10-02T17:55:58.446313Z",
     "start_time": "2024-10-02T17:55:58.361148Z"
    }
   },
   "source": [
    "import sqlite3\n",
    "\n",
    "import textdistance\n",
    "from Levenshtein import jaro_winkler\n",
    "\n",
    "# Connect to the SQLite database (or create it)\n",
    "conn = sqlite3.connect('university.db',timeout=10)\n",
    "cursor = conn.cursor()\n",
    "# Drop tables if they exist (to reset the database for fresh creation)\n",
    "cursor.execute(\"DROP TABLE IF EXISTS department\")\n",
    "cursor.execute(\"DROP TABLE IF EXISTS course\")\n",
    "cursor.execute(\"DROP TABLE IF EXISTS student\")\n",
    "cursor.execute(\"DROP TABLE IF EXISTS instructor\")\n",
    "cursor.execute(\"DROP TABLE IF EXISTS section\")\n",
    "cursor.execute(\"DROP TABLE IF EXISTS teaches\")\n",
    "cursor.execute(\"DROP TABLE IF EXISTS classroom\")\n",
    "cursor.execute(\"DROP TABLE IF EXISTS takes\")\n",
    "cursor.execute(\"DROP TABLE IF EXISTS advisor\")\n",
    "cursor.execute(\"DROP TABLE IF EXISTS prereq\")\n",
    "\n",
    "cursor.execute('''\n",
    "    CREATE TABLE department (\n",
    "        dept_name TEXT PRIMARY KEY,\n",
    "        building TEXT,\n",
    "        budget REAL\n",
    "    )\n",
    "''')\n",
    "\n",
    "cursor.execute('''\n",
    "    CREATE TABLE course (\n",
    "        course_id TEXT PRIMARY KEY,\n",
    "        title TEXT,\n",
    "        dept_name TEXT,\n",
    "        credits INTEGER,\n",
    "        FOREIGN KEY (dept_name) REFERENCES department(dept_name)\n",
    "    )\n",
    "''')\n",
    "\n",
    "cursor.execute('''\n",
    "    CREATE TABLE student (\n",
    "        ID TEXT PRIMARY KEY,\n",
    "        name TEXT,\n",
    "        dept_name TEXT,\n",
    "        tot_cred INTEGER,\n",
    "        FOREIGN KEY (dept_name) REFERENCES department(dept_name)\n",
    "    )\n",
    "''')\n",
    "\n",
    "cursor.execute('''\n",
    "    CREATE TABLE instructor (\n",
    "        ID TEXT PRIMARY KEY,\n",
    "        name TEXT,\n",
    "        dept_name TEXT,\n",
    "        salary REAL,\n",
    "        FOREIGN KEY (dept_name) REFERENCES department(dept_name)\n",
    "    )\n",
    "''')\n",
    "\n",
    "cursor.execute('''\n",
    "    CREATE TABLE section (\n",
    "        course_id TEXT,\n",
    "        sec_id TEXT,\n",
    "        semester TEXT CHECK (semester IN ('Q1', 'Q2', 'Q3', 'Q4')), -- Semester constraint\n",
    "        year INTEGER CHECK (year > 2000), -- Year constraint\n",
    "        building TEXT,\n",
    "        room_no TEXT,\n",
    "        time_slot_id TEXT CHECK (time_slot_id IN ('A', 'B', 'C', 'D')), -- Time slot constraint\n",
    "        PRIMARY KEY (course_id, sec_id, semester, year),\n",
    "        FOREIGN KEY (course_id) REFERENCES course(course_id)\n",
    "    )\n",
    "''')\n",
    "\n",
    "cursor.execute('''\n",
    "    CREATE TABLE teaches (\n",
    "        ID TEXT,\n",
    "        course_id TEXT,\n",
    "        sec_id TEXT,\n",
    "        semester TEXT CHECK (semester IN ('Q1', 'Q2', 'Q3', 'Q4')), -- Semester constraint\n",
    "        year INTEGER CHECK (year > 2000), -- Year constraint\n",
    "        PRIMARY KEY (ID, course_id, sec_id, semester, year),\n",
    "        FOREIGN KEY (ID) REFERENCES instructor(ID),\n",
    "        FOREIGN KEY (course_id, sec_id, semester, year) REFERENCES section(course_id, sec_id, semester, year)\n",
    "    )\n",
    "''')\n",
    "\n",
    "cursor.execute('''\n",
    "    CREATE TABLE classroom (\n",
    "        building TEXT,\n",
    "        room_no TEXT,\n",
    "        capacity INTEGER,\n",
    "        PRIMARY KEY (building, room_no)\n",
    "    )\n",
    "''')\n",
    "\n",
    "cursor.execute('''\n",
    "    CREATE TABLE takes (\n",
    "        ID TEXT,\n",
    "        course_id TEXT,\n",
    "        sec_id TEXT,\n",
    "        semester TEXT CHECK (semester IN ('Q1', 'Q2', 'Q3', 'Q4')), -- Semester constraint\n",
    "        year INTEGER CHECK (year > 2000), -- Year constraint\n",
    "        grade TEXT,\n",
    "        PRIMARY KEY (ID, course_id, sec_id, semester, year),\n",
    "        FOREIGN KEY (ID) REFERENCES student(ID),\n",
    "        FOREIGN KEY (course_id, sec_id, semester, year) REFERENCES section(course_id, sec_id, semester, year)\n",
    "    )\n",
    "''')\n",
    "\n",
    "cursor.execute('''\n",
    "    CREATE TABLE advisor (\n",
    "        s_id TEXT,\n",
    "        i_id TEXT,\n",
    "        PRIMARY KEY (s_id),\n",
    "        FOREIGN KEY (s_id) REFERENCES student(ID),\n",
    "        FOREIGN KEY (i_id) REFERENCES instructor(ID)\n",
    "    )\n",
    "''')\n",
    "\n",
    "cursor.execute('''\n",
    "    CREATE TABLE prereq (\n",
    "        course_id TEXT,\n",
    "        prereq_id TEXT,\n",
    "        PRIMARY KEY (course_id, prereq_id),\n",
    "        FOREIGN KEY (course_id) REFERENCES course(course_id),\n",
    "        FOREIGN KEY (prereq_id) REFERENCES course(course_id)\n",
    "    )\n",
    "''')\n",
    "\n",
    "# Commit the changes and close the connection\n",
    "conn.commit()\n",
    "conn.close()\n",
    "print(\"Database created successfully!\")\n"
   ],
   "outputs": [
    {
     "name": "stdout",
     "output_type": "stream",
     "text": [
      "Database created successfully!\n"
     ]
    }
   ],
   "execution_count": 1
  },
  {
   "metadata": {
    "ExecuteTime": {
     "end_time": "2024-10-02T17:55:58.588792Z",
     "start_time": "2024-10-02T17:55:58.571578Z"
    }
   },
   "cell_type": "code",
   "source": [
    "#Q2\n",
    "conn = sqlite3.connect('university.db')\n",
    "cursor = conn.cursor()\n",
    "cursor.execute(\"\"\" INSERT INTO student (ID,name,dept_name,tot_cred) VALUES (\"1\",\"Jason\",\"Computer Science\",3);\"\"\")\n",
    "cursor.execute(\"\"\"INSERT INTO student (ID,name,dept_name,tot_cred) VALUES (\"2\",\"Jad\",\"Biology\",3);\"\"\")\n",
    "cursor.execute(\"\"\"INSERT INTO student (ID,name,dept_name,tot_cred) VALUES (\"3\",\"Nizar\",\"Architecture\",3);\"\"\")\n",
    "cursor.execute(\"\"\"  INSERT INTO student (ID,name,dept_name,tot_cred) VALUES (\"4\",\"Nason\",\"Computer Engineering\",3); \"\"\")\n",
    "conn.commit()\n",
    "conn.close()"
   ],
   "id": "d5b1ea77851fc6a1",
   "outputs": [],
   "execution_count": 2
  },
  {
   "metadata": {
    "ExecuteTime": {
     "end_time": "2024-10-02T17:59:28.879127Z",
     "start_time": "2024-10-02T17:59:27.500185Z"
    }
   },
   "cell_type": "code",
   "source": [
    "import pandas as pd\n",
    "conn = sqlite3.connect('university.db')\n",
    "cursor = conn.cursor()\n",
    "df= pd.read_sql_query(\"SELECT * FROM student\", conn)\n",
    "df"
   ],
   "id": "dd91c26a2ae22749",
   "outputs": [
    {
     "data": {
      "text/plain": [
       "  ID   name             dept_name  tot_cred\n",
       "0  1  Jason      Computer Science         3\n",
       "1  2    Jad               Biology         3\n",
       "2  3  Nizar          Architecture         3\n",
       "3  4  Nason  Computer Engineering         3"
      ],
      "text/html": [
       "<div>\n",
       "<style scoped>\n",
       "    .dataframe tbody tr th:only-of-type {\n",
       "        vertical-align: middle;\n",
       "    }\n",
       "\n",
       "    .dataframe tbody tr th {\n",
       "        vertical-align: top;\n",
       "    }\n",
       "\n",
       "    .dataframe thead th {\n",
       "        text-align: right;\n",
       "    }\n",
       "</style>\n",
       "<table border=\"1\" class=\"dataframe\">\n",
       "  <thead>\n",
       "    <tr style=\"text-align: right;\">\n",
       "      <th></th>\n",
       "      <th>ID</th>\n",
       "      <th>name</th>\n",
       "      <th>dept_name</th>\n",
       "      <th>tot_cred</th>\n",
       "    </tr>\n",
       "  </thead>\n",
       "  <tbody>\n",
       "    <tr>\n",
       "      <th>0</th>\n",
       "      <td>1</td>\n",
       "      <td>Jason</td>\n",
       "      <td>Computer Science</td>\n",
       "      <td>3</td>\n",
       "    </tr>\n",
       "    <tr>\n",
       "      <th>1</th>\n",
       "      <td>2</td>\n",
       "      <td>Jad</td>\n",
       "      <td>Biology</td>\n",
       "      <td>3</td>\n",
       "    </tr>\n",
       "    <tr>\n",
       "      <th>2</th>\n",
       "      <td>3</td>\n",
       "      <td>Nizar</td>\n",
       "      <td>Architecture</td>\n",
       "      <td>3</td>\n",
       "    </tr>\n",
       "    <tr>\n",
       "      <th>3</th>\n",
       "      <td>4</td>\n",
       "      <td>Nason</td>\n",
       "      <td>Computer Engineering</td>\n",
       "      <td>3</td>\n",
       "    </tr>\n",
       "  </tbody>\n",
       "</table>\n",
       "</div>"
      ]
     },
     "execution_count": 6,
     "metadata": {},
     "output_type": "execute_result"
    }
   ],
   "execution_count": 6
  },
  {
   "metadata": {
    "ExecuteTime": {
     "end_time": "2024-10-02T18:33:43.385783Z",
     "start_time": "2024-10-02T18:33:43.342116Z"
    }
   },
   "cell_type": "code",
   "source": [
    "import pandas as pd\n",
    "import sqlite3\n",
    "from itertools import combinations\n",
    "\n",
    "# Load data from the SQLite database into a DataFrame\n",
    "conn = sqlite3.connect('university.db')\n",
    "table_name = 'student'\n",
    "df = pd.read_sql_query(f\"SELECT * FROM {table_name}\", conn)\n",
    "conn.close()\n",
    "\n",
    "# Ensure no leading/trailing spaces in column names\n",
    "df.columns = df.columns.str.strip()\n",
    "\n",
    "# Check if X -> Y (X functionally determines Y)\n",
    "def check_fd(df, X, Y):\n",
    "    try:\n",
    "        # Group by the determinant (X) and check if Y has multiple unique values\n",
    "        grouped = df.groupby(list(X))[Y].nunique()\n",
    "        return (grouped <= 1).all()\n",
    "    except KeyError as e:\n",
    "        print(f\"KeyError: {e} - One of the columns in {X} or {Y} is missing.\")\n",
    "        return False\n",
    "    except Exception as e:\n",
    "        print(f\"Error: {e} - Something went wrong with grouping or checking functional dependency.\")\n",
    "        return False\n",
    "\n",
    "# Function to find all functional dependencies\n",
    "def find_functional_dependencies(df):\n",
    "    fds = []\n",
    "    columns = df.columns\n",
    "    \n",
    "    # Iterate over all possible combinations of column sets X -> Y\n",
    "    for k in range(1, len(columns)):\n",
    "        for X in combinations(columns, k):\n",
    "            for Y in columns:\n",
    "                if Y not in X:\n",
    "                    if check_fd(df, X, Y):\n",
    "                        fds.append(f\"{X} -> {Y}\")\n",
    "    \n",
    "    return fds\n",
    "\n",
    "# Find functional dependencies\n",
    "fds = find_functional_dependencies(df)\n",
    "\n",
    "# Print the discovered FDs\n",
    "for fd in fds:\n",
    "    print(fd)\n"
   ],
   "id": "8ff3eb36b0bcb9aa",
   "outputs": [
    {
     "name": "stdout",
     "output_type": "stream",
     "text": [
      "('ID',) -> name\n",
      "('ID',) -> dept_name\n",
      "('ID',) -> tot_cred\n",
      "('name',) -> ID\n",
      "('name',) -> dept_name\n",
      "('name',) -> tot_cred\n",
      "('dept_name',) -> ID\n",
      "('dept_name',) -> name\n",
      "('dept_name',) -> tot_cred\n",
      "('ID', 'name') -> dept_name\n",
      "('ID', 'name') -> tot_cred\n",
      "('ID', 'dept_name') -> name\n",
      "('ID', 'dept_name') -> tot_cred\n",
      "('ID', 'tot_cred') -> name\n",
      "('ID', 'tot_cred') -> dept_name\n",
      "('name', 'dept_name') -> ID\n",
      "('name', 'dept_name') -> tot_cred\n",
      "('name', 'tot_cred') -> ID\n",
      "('name', 'tot_cred') -> dept_name\n",
      "('dept_name', 'tot_cred') -> ID\n",
      "('dept_name', 'tot_cred') -> name\n",
      "('ID', 'name', 'dept_name') -> tot_cred\n",
      "('ID', 'name', 'tot_cred') -> dept_name\n",
      "('ID', 'dept_name', 'tot_cred') -> name\n",
      "('name', 'dept_name', 'tot_cred') -> ID\n"
     ]
    }
   ],
   "execution_count": 10
  },
  {
   "metadata": {
    "ExecuteTime": {
     "end_time": "2024-10-07T15:51:29.309410Z",
     "start_time": "2024-10-07T15:51:26.491808Z"
    }
   },
   "cell_type": "code",
   "source": "!pip install levenshtein",
   "id": "909254c956c694af",
   "outputs": [
    {
     "name": "stdout",
     "output_type": "stream",
     "text": [
      "Requirement already satisfied: levenshtein in c:\\users\\jason\\miniconda3\\lib\\site-packages (0.26.0)\n",
      "Requirement already satisfied: rapidfuzz<4.0.0,>=3.9.0 in c:\\users\\jason\\miniconda3\\lib\\site-packages (from levenshtein) (3.10.0)\n"
     ]
    }
   ],
   "execution_count": 2
  },
  {
   "metadata": {
    "ExecuteTime": {
     "end_time": "2024-10-07T16:13:56.435340Z",
     "start_time": "2024-10-07T16:13:56.429779Z"
    }
   },
   "cell_type": "code",
   "source": [
    "import Levenshtein as ls\n",
    "str1=\"Computation\"\n",
    "str2 = \"Completion\"\n",
    "#Q5-a: \n",
    "print(\"Q5-a:\")\n",
    "print(ls.distance(str1,str2,weights=(1,1,1)))\n",
    "#Q5-b:\n",
    "print(\"Q5-b:\")\n",
    "print(ls.distance(str1,str2,weights=(1,1,2)))\n",
    "#Q5-c:\n",
    "print(\"Q5-c:\")\n",
    "print(ls.distance(str1,str2,weights=(1,1,3)))\n",
    "#What do you expect if the cost of the update operation is > 3 while the cost of insert and delete remains 1? Explain your answer.\n",
    "#When the cost of substitution exceeds 3, I expect the total edit distance to remain constant at 5. Since the substitution operation becomes too expensive, the algorithm will try to avoid using it as much as possible. Instead, it will rely more on insertions and deletions, both of which still cost 1. As a result, the algorithm can minimize the total cost by favoring these cheaper operations \n",
    "# We can demonstrate this by increasing the cost of either deletion or insertion. When the cost of these operations exceeds 1, the edit distance becomes greater than 5, as the algorithm is forced to use more costly operations."
   ],
   "id": "71b57fd540fc430c",
   "outputs": [
    {
     "name": "stdout",
     "output_type": "stream",
     "text": [
      "Q5-a:\n",
      "3\n",
      "Q5-b:\n",
      "5\n",
      "Q5-c:\n",
      "5\n",
      "5\n",
      "10\n"
     ]
    }
   ],
   "execution_count": 8
  },
  {
   "metadata": {
    "ExecuteTime": {
     "end_time": "2024-10-07T16:24:38.862933Z",
     "start_time": "2024-10-07T16:24:36.160177Z"
    }
   },
   "cell_type": "code",
   "source": "!pip install biopython",
   "id": "cd8f285a5666e1a1",
   "outputs": [
    {
     "name": "stdout",
     "output_type": "stream",
     "text": [
      "Requirement already satisfied: biopython in c:\\users\\jason\\miniconda3\\lib\\site-packages (1.78)\n",
      "Requirement already satisfied: numpy in c:\\users\\jason\\miniconda3\\lib\\site-packages (from biopython) (1.26.4)\n"
     ]
    }
   ],
   "execution_count": 59
  },
  {
   "metadata": {
    "ExecuteTime": {
     "end_time": "2024-10-07T16:29:19.528038Z",
     "start_time": "2024-10-07T16:29:19.523122Z"
    }
   },
   "cell_type": "code",
   "source": [
    "#This python library was suggested to me by ChatGPT. I asked what libraries can I use to calculate Gap Distance in py?\n",
    "from Bio import pairwise2\n",
    "from Bio.pairwise2 import format_alignment \n",
    "str1 = \"Advances in Instrumentation and Control\"\n",
    "str2 = \"Adv. Instrum. Control\"\n",
    "alignments = pairwise2.align.globalxs(str1, str2,open =-1, extend =-0.1)\n",
    "for alignment in alignments:\n",
    "    print(format_alignment(*alignment))"
   ],
   "id": "fde623a18c7e4f96",
   "outputs": [
    {
     "name": "stdout",
     "output_type": "stream",
     "text": [
      "Advances in Instrumentation and Control\n",
      "|||       .||||||||           .||||||||\n",
      "Adv-------. Instrum-----------. Control\n",
      "  Score=15.4\n",
      "\n",
      "Advances in Instrumentation and Control\n",
      "|||.       ||||||||           .||||||||\n",
      "Adv.------- Instrum-----------. Control\n",
      "  Score=15.4\n",
      "\n",
      "Advances in Instrumentation and Control\n",
      "|||       .||||||||.           ||||||||\n",
      "Adv-------. Instrum.----------- Control\n",
      "  Score=15.4\n",
      "\n",
      "Advances in Instrumentation and Control\n",
      "|||.       ||||||||.           ||||||||\n",
      "Adv.------- Instrum.----------- Control\n",
      "  Score=15.4\n",
      "\n"
     ]
    }
   ],
   "execution_count": 63
  },
  {
   "metadata": {
    "ExecuteTime": {
     "end_time": "2024-10-07T16:30:08.301413Z",
     "start_time": "2024-10-07T16:30:04.505868Z"
    }
   },
   "cell_type": "code",
   "source": "!pip install textdistance",
   "id": "89fec6770d5f7ba8",
   "outputs": [
    {
     "name": "stdout",
     "output_type": "stream",
     "text": [
      "Collecting textdistance\n",
      "  Obtaining dependency information for textdistance from https://files.pythonhosted.org/packages/c6/c2/c62601c858010b0513a6434b9be19bd740533a6e861eddfd30b7258d92a0/textdistance-4.6.3-py3-none-any.whl.metadata\n",
      "  Downloading textdistance-4.6.3-py3-none-any.whl.metadata (18 kB)\n",
      "Downloading textdistance-4.6.3-py3-none-any.whl (31 kB)\n",
      "Installing collected packages: textdistance\n",
      "Successfully installed textdistance-4.6.3\n"
     ]
    }
   ],
   "execution_count": 64
  },
  {
   "metadata": {
    "ExecuteTime": {
     "end_time": "2024-10-07T16:34:59.123418Z",
     "start_time": "2024-10-07T16:34:59.119068Z"
    }
   },
   "cell_type": "code",
   "source": [
    "import textdistance as td\n",
    "A = {0,1,2,5,6}\n",
    "B = {0,2,3,5,7,9}\n",
    "C = {2,3,5,6}\n",
    "ab = td.jaccard.distance(A,B)\n",
    "ac = td.jaccard.distance(A,C)\n",
    "bc = td.jaccard.distance(B,C)\n",
    "print(ab,ac,bc)"
   ],
   "id": "ba52bd4b6c3b203a",
   "outputs": [
    {
     "name": "stdout",
     "output_type": "stream",
     "text": [
      "0.625 0.5 0.5714285714285714\n"
     ]
    }
   ],
   "execution_count": 69
  },
  {
   "metadata": {
    "ExecuteTime": {
     "end_time": "2024-10-07T16:42:26.263919Z",
     "start_time": "2024-10-07T16:42:26.257799Z"
    }
   },
   "cell_type": "code",
   "source": [
    "import textdistance\n",
    "\n",
    "# Define the sets as multisets (bags)\n",
    "A = [1, 1, 2, 2, 5]\n",
    "B = [1, 2, 2, 2, 5, 5]\n",
    "C = [1, 2, 3, 4, 5]\n",
    "\n",
    "# Function to compute Jaccard similarity using textdistance\n",
    "def jaccard_bag_similarity(set1, set2):\n",
    "    return textdistance.Jaccard(qval=1).similarity(set1, set2)\n",
    "\n",
    "# Compute pairwise Jaccard bag similarities\n",
    "similarity_A_B = jaccard_bag_similarity(A, B)\n",
    "similarity_A_C = jaccard_bag_similarity(A, C)\n",
    "similarity_B_C = jaccard_bag_similarity(B, C)\n",
    "\n",
    "# Output the results\n",
    "print(f\"Jaccard bag similarity (A, B): {similarity_A_B}\")\n",
    "print(f\"Jaccard bag similarity (A, C): {similarity_A_C}\")\n",
    "print(f\"Jaccard bag similarity (B, C): {similarity_B_C}\")\n"
   ],
   "id": "2cb6e88583b1267f",
   "outputs": [
    {
     "name": "stdout",
     "output_type": "stream",
     "text": [
      "Jaccard bag similarity (A, B): 0.5714285714285714\n",
      "Jaccard bag similarity (A, C): 0.42857142857142855\n",
      "Jaccard bag similarity (B, C): 0.375\n"
     ]
    }
   ],
   "execution_count": 74
  },
  {
   "metadata": {
    "ExecuteTime": {
     "end_time": "2024-10-07T16:47:03.206172Z",
     "start_time": "2024-10-07T16:47:03.201757Z"
    }
   },
   "cell_type": "code",
   "source": [
    "str1 = \"arnab\"\n",
    "str2 = \"ubran\"\n",
    "\n",
    "jaro = td.jaro.similarity(str1, str2)\n",
    "print(jaro)\n",
    "jaro_winkler = td.jaro_winkler.similarity(str1, str2)\n",
    "print(jaro_winkler)\n",
    "#What do you think is the reason for this result?"
   ],
   "id": "fe75654211135287",
   "outputs": [
    {
     "name": "stdout",
     "output_type": "stream",
     "text": [
      "0.6\n",
      "0.6\n"
     ]
    }
   ],
   "execution_count": 81
  },
  {
   "metadata": {
    "ExecuteTime": {
     "end_time": "2024-10-07T17:32:59.163880Z",
     "start_time": "2024-10-07T17:32:59.159635Z"
    }
   },
   "cell_type": "code",
   "source": [
    "def word_based_shingles(text, k=5):\n",
    "    words = text.split()\n",
    "    shingles = set()\n",
    "    # Generate all k-word shingles\n",
    "    for i in range(len(words) - k + 1):\n",
    "        shingles.add(' '.join(words[i:i+k]))\n",
    "    return shingles\n",
    "sentence = \"Many problems can be expressed as finding similar sets\"\n",
    "print(f\"{word_based_shingles(sentence)}, Therefore the cardinality of the 5-shingle set is {len(word_based_shingles(sentence))}\")"
   ],
   "id": "5d18987dbf6c766f",
   "outputs": [
    {
     "name": "stdout",
     "output_type": "stream",
     "text": [
      "{'Many problems can be expressed', 'expressed as finding similar sets', 'be expressed as finding similar', 'can be expressed as finding', 'problems can be expressed as'}, Therefore the cardinality of the 5-shingle set is 5\n"
     ]
    }
   ],
   "execution_count": 84
  }
 ],
 "metadata": {
  "kernelspec": {
   "display_name": "Python 3",
   "language": "python",
   "name": "python3"
  },
  "language_info": {
   "codemirror_mode": {
    "name": "ipython",
    "version": 2
   },
   "file_extension": ".py",
   "mimetype": "text/x-python",
   "name": "python",
   "nbconvert_exporter": "python",
   "pygments_lexer": "ipython2",
   "version": "2.7.6"
  }
 },
 "nbformat": 4,
 "nbformat_minor": 5
}
